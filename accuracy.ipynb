{
 "cells": [
  {
   "cell_type": "code",
   "execution_count": 72,
   "metadata": {},
   "outputs": [],
   "source": [
    "import os\n",
    "from PIL import Image\n",
    "import numpy as np\n",
    "import statistics"
   ]
  },
  {
   "cell_type": "code",
   "execution_count": 73,
   "metadata": {},
   "outputs": [],
   "source": [
    "path = '/Users/aizazansari/Desktop/Uni Data/MOMA/images_fixed/col/'\n",
    "path2 = '/Users/aizazansari/Desktop/models/research/deeplab/datasets/custom_datasets/visualization/segmentation_results/'\n",
    "arr = os.listdir(path2)\n",
    "\n",
    "averages = []\n",
    "for file in arr:\n",
    "    count = 0\n",
    "    pred = np.array(Image.open(path2+file))\n",
    "    orig = np.array(Image.open(path+file[2:].replace(\"'\",\"\")))\n",
    "    for i in range(len(pred)):\n",
    "        for j in range(len(pred[0])):\n",
    "            if ((pred[i][j]==[0,128,0]).all() and (orig[i][j]==[255,0,0]).all()) or ((pred[i][j]==[128,0,0]).all() and (orig[i][j]==[0,255,0]).all()) or ((pred[i][j]==[0,0,0]).all() and (orig[i][j]==[0,0,0]).all()):\n",
    "                count = count + 1\n",
    "    averages.append((count/(128*128)))"
   ]
  },
  {
   "cell_type": "code",
   "execution_count": 74,
   "metadata": {},
   "outputs": [
    {
     "data": {
      "text/plain": [
       "0.8431711536395126"
      ]
     },
     "execution_count": 74,
     "metadata": {},
     "output_type": "execute_result"
    }
   ],
   "source": [
    "statistics.mean(averages)"
   ]
  },
  {
   "cell_type": "code",
   "execution_count": null,
   "metadata": {},
   "outputs": [],
   "source": []
  },
  {
   "cell_type": "code",
   "execution_count": null,
   "metadata": {},
   "outputs": [],
   "source": []
  },
  {
   "cell_type": "code",
   "execution_count": null,
   "metadata": {},
   "outputs": [],
   "source": []
  },
  {
   "cell_type": "code",
   "execution_count": null,
   "metadata": {},
   "outputs": [],
   "source": []
  },
  {
   "cell_type": "code",
   "execution_count": null,
   "metadata": {},
   "outputs": [],
   "source": []
  }
 ],
 "metadata": {
  "kernelspec": {
   "display_name": "Python 3",
   "language": "python",
   "name": "python3"
  },
  "language_info": {
   "codemirror_mode": {
    "name": "ipython",
    "version": 3
   },
   "file_extension": ".py",
   "mimetype": "text/x-python",
   "name": "python",
   "nbconvert_exporter": "python",
   "pygments_lexer": "ipython3",
   "version": "3.7.3"
  }
 },
 "nbformat": 4,
 "nbformat_minor": 4
}
