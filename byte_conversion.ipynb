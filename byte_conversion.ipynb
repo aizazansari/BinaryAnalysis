{
 "cells": [
  {
   "cell_type": "code",
   "execution_count": 51,
   "metadata": {},
   "outputs": [],
   "source": [
    "import sys\n",
    "import os\n",
    "arr = os.listdir('/Users/aizazansari/Desktop/Uni Data/MOMA/armhf')"
   ]
  },
  {
   "cell_type": "code",
   "execution_count": 58,
   "metadata": {},
   "outputs": [],
   "source": [
    "for elem in arr:\n",
    "    \n",
    "    read_file_path = 'armhf/' + each\n",
    "    \n",
    "    with open(read_file_path, mode='rb') as file: # b -> binary\n",
    "        \n",
    "        #counter to write 4 bytes on each line\n",
    "        count = 1\n",
    "        wrie_file_path = \"armhf/\" + elem + \".txt\"\n",
    "        write_file = open(wrie_file_path,\"w\")\n",
    "        \n",
    "        while 1:\n",
    "            \n",
    "            byte_s = file.read(1)\n",
    "            \n",
    "            if count%4 == 0:\n",
    "                value = int.from_bytes(byte_s, byteorder=sys.byteorder)\n",
    "                write_file.write(str(value)+ \"\\n\")\n",
    "                \n",
    "            else:\n",
    "                value = int.from_bytes(byte_s, byteorder=sys.byteorder)\n",
    "                write_file.write(str(value)+ \" \")\n",
    "                \n",
    "            count = count + 1\n",
    "            \n",
    "            #eof reached\n",
    "            if not byte_s:\n",
    "                break\n",
    "\n",
    "    write_file.close()   "
   ]
  },
  {
   "cell_type": "code",
   "execution_count": 65,
   "metadata": {},
   "outputs": [
    {
     "data": {
      "text/plain": [
       "230"
      ]
     },
     "execution_count": 65,
     "metadata": {},
     "output_type": "execute_result"
    }
   ],
   "source": [
    "byte = b'\\xe6'\n",
    "ord(byte)"
   ]
  },
  {
   "cell_type": "code",
   "execution_count": 54,
   "metadata": {},
   "outputs": [],
   "source": []
  },
  {
   "cell_type": "code",
   "execution_count": null,
   "metadata": {},
   "outputs": [],
   "source": []
  }
 ],
 "metadata": {
  "kernelspec": {
   "display_name": "Python 3",
   "language": "python",
   "name": "python3"
  },
  "language_info": {
   "codemirror_mode": {
    "name": "ipython",
    "version": 3
   },
   "file_extension": ".py",
   "mimetype": "text/x-python",
   "name": "python",
   "nbconvert_exporter": "python",
   "pygments_lexer": "ipython3",
   "version": "3.7.3"
  }
 },
 "nbformat": 4,
 "nbformat_minor": 4
}
