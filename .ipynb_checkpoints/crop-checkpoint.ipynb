{
 "cells": [
  {
   "cell_type": "code",
   "execution_count": 48,
   "metadata": {},
   "outputs": [],
   "source": [
    "from PIL import Image\n",
    "import os"
   ]
  },
  {
   "cell_type": "code",
   "execution_count": 65,
   "metadata": {},
   "outputs": [],
   "source": [
    "def crop_img(name,new_dimension):\n",
    "    load_path= 'images_varied/bw_up_hilbert/'\n",
    "    save_path = 'images_varied/bw_up_hilbert_crop/'\n",
    "    img = Image.open(load_path+name)\n",
    "    old_dimension = img.size[0]\n",
    "    \n",
    "    if old_dimension==new_dimension:\n",
    "        img.save(save_path+name,quality=100)\n",
    "    \n",
    "    if old_dimension > new_dimension:\n",
    "        num_row = int(old_dimension/new_dimension)\n",
    "        crop = pow(num_row,2)\n",
    "\n",
    "        for i in range(crop):\n",
    "\n",
    "            x = (i*new_dimension)%old_dimension\n",
    "            y = (i//num_row)*new_dimension \n",
    "\n",
    "            cropped = img.crop((x,y,x+new_dimension,y+new_dimension))\n",
    "            cropped.save(save_path + name.strip('.png') +  \"-\" + str(i) + \".png\",quality=100)\n"
   ]
  },
  {
   "cell_type": "code",
   "execution_count": 67,
   "metadata": {},
   "outputs": [],
   "source": [
    "path = '/Users/aizazansari/Desktop/Uni Data/MOMA/BinaryAnalysis/images_varied/bw_up_hilbert'\n",
    "arr = os.listdir(path)\n",
    "\n",
    "for name in arr:\n",
    "    if name.endswith('png'):\n",
    "        crop_img(name,128)\n"
   ]
  },
  {
   "cell_type": "code",
   "execution_count": null,
   "metadata": {},
   "outputs": [],
   "source": []
  },
  {
   "cell_type": "code",
   "execution_count": 68,
   "metadata": {},
   "outputs": [
    {
     "data": {
      "image/png": "[encoded data removed]",
      "text/plain": [
       "<PIL.PngImagePlugin.PngImageFile image mode=RGB size=128x128 at 0x1123A4898>"
      ]
     },
     "execution_count": 68,
     "metadata": {},
     "output_type": "execute_result"
    }
   ],
   "source": []
  },
  {
   "cell_type": "code",
   "execution_count": null,
   "metadata": {},
   "outputs": [],
   "source": []
  }
 ],
 "metadata": {
  "kernelspec": {
   "display_name": "Python 3",
   "language": "python",
   "name": "python3"
  },
  "language_info": {
   "codemirror_mode": {
    "name": "ipython",
    "version": 3
   },
   "file_extension": ".py",
   "mimetype": "text/x-python",
   "name": "python",
   "nbconvert_exporter": "python",
   "pygments_lexer": "ipython3",
   "version": "3.7.3"
  }
 },
 "nbformat": 4,
 "nbformat_minor": 4
}
