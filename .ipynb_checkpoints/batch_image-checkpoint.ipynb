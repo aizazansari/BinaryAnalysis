{
 "cells": [
  {
   "cell_type": "code",
   "execution_count": 87,
   "metadata": {},
   "outputs": [],
   "source": [
    "import numpy\n",
    "import random\n",
    "from PIL import Image\n",
    "import pandas as pd\n",
    "import numpy as np\n",
    "import cv2\n",
    "import math\n",
    "import os"
   ]
  },
  {
   "cell_type": "code",
   "execution_count": 181,
   "metadata": {},
   "outputs": [
    {
     "name": "stdout",
     "output_type": "stream",
     "text": [
      "2303\n"
     ]
    }
   ],
   "source": [
    "files = []\n",
    "max_size = 65536\n",
    "df = pd.read_csv('sizes.csv','r',delimiter=',')\n",
    "\n",
    "\n",
    "for index,row in df.iterrows():\n",
    "    if row['size']>5000 and row['size']<max_size:\n",
    "        files.append(row['name'])\n",
    "print(len(files))        "
   ]
  },
  {
   "cell_type": "code",
   "execution_count": 184,
   "metadata": {},
   "outputs": [],
   "source": [
    "def create_image(name):\n",
    "    df = pd.read_csv(\"decimal_files/\" + name,sep='|',error_bad_lines=False,warn_bad_lines=False,engine='python')\n",
    "\n",
    "    decimals = []\n",
    "    for index, row in df.iterrows():\n",
    "        values = row['bytes'].split('-')\n",
    "        if row['type']=='data':\n",
    "            values = [value+'d' for value in values]\n",
    "        else:\n",
    "            values = [value+'c' for value in values]\n",
    "        decimals.extend(values)\n",
    "    \n",
    "    length = len(decimals)\n",
    "    dimension = math.ceil(math.sqrt(length))\n",
    "    bw_data = numpy.zeros((dimension, dimension), dtype=numpy.uint8)\n",
    "    col_data = numpy.zeros((dimension, dimension, 3), dtype=numpy.uint8)\n",
    "    \n",
    "    for num in range(length):\n",
    "        if decimals[num][-1]=='c':\n",
    "            col = [0,255,0]\n",
    "            gray = 85\n",
    "        else:\n",
    "            col = [255,0,0]\n",
    "            gray = 170\n",
    "        if (num//dimension%2==0):\n",
    "\n",
    "            bw_data[num//dimension,num%dimension] = decimals[num][:-1]\n",
    "            col_data[num//dimension,num%dimension] = col\n",
    "        else:\n",
    "            bw_data[num//dimension,dimension - num%dimension - 1]=decimals[num][:-1]\n",
    "            col_data[num//dimension,dimension - num%dimension - 1]=col\n",
    "            \n",
    "    image = Image.fromarray(bw_data)\n",
    "    image.save(\"images/bw256/\"+name.strip('csv')+\"png\",quality=100)\n",
    "    image = Image.fromarray(col_data)\n",
    "    image.save(\"images/col256/\"+name.strip('csv')+\"png\",quality=100)\n",
    " "
   ]
  },
  {
   "cell_type": "code",
   "execution_count": null,
   "metadata": {},
   "outputs": [],
   "source": [
    "Starting and .bss are 255\n",
    "Extern is 0. We can pad with 255 at the start"
   ]
  },
  {
   "cell_type": "code",
   "execution_count": 185,
   "metadata": {},
   "outputs": [
    {
     "name": "stdout",
     "output_type": "stream",
     "text": [
      "0\n",
      "100\n",
      "200\n",
      "300\n",
      "400\n",
      "500\n",
      "600\n",
      "700\n",
      "800\n",
      "900\n",
      "1000\n",
      "1100\n",
      "1200\n",
      "1300\n",
      "1400\n",
      "1500\n",
      "1600\n",
      "1700\n",
      "1800\n",
      "1900\n",
      "2000\n",
      "2100\n",
      "2200\n",
      "2300\n"
     ]
    }
   ],
   "source": [
    "for count,file in enumerate(files):\n",
    "    create_image(file)\n",
    "    if count%100==0:\n",
    "        print(count)"
   ]
  },
  {
   "cell_type": "code",
   "execution_count": 188,
   "metadata": {},
   "outputs": [],
   "source": [
    "#resize images\n",
    "\n",
    "path1 = '/Users/aizazansari/Desktop/Uni Data/MOMA/images/bw256/'\n",
    "path2 = '/Users/aizazansari/Desktop/Uni Data/MOMA/images/col256/'\n",
    "dim = int(math.sqrt(max_size))\n",
    "arr = os.listdir(path1)\n",
    "\n",
    "for img in arr:\n",
    "    if img.endswith('.png'):\n",
    "        image1 = Image.open(path1+img)\n",
    "        ret_image1 = image1.resize([dim,dim], Image.NEAREST)\n",
    "        ret_image1.save(\"images_fixed/bw256/\"+ img,quality=100)\n",
    "\n",
    "        image2 = Image.open(path2+img)\n",
    "        ret_image2 = image2.resize([dim,dim], Image.NEAREST)\n",
    "        ret_image2.save(\"images_fixed/col256/\"+ img,quality=100)"
   ]
  },
  {
   "cell_type": "code",
   "execution_count": 187,
   "metadata": {},
   "outputs": [
    {
     "data": {
      "text/plain": [
       "256.0"
      ]
     },
     "execution_count": 187,
     "metadata": {},
     "output_type": "execute_result"
    }
   ],
   "source": []
  },
  {
   "cell_type": "code",
   "execution_count": 56,
   "metadata": {},
   "outputs": [
    {
     "data": {
      "text/plain": [
       "True"
      ]
     },
     "execution_count": 56,
     "metadata": {},
     "output_type": "execute_result"
    }
   ],
   "source": []
  },
  {
   "cell_type": "code",
   "execution_count": null,
   "metadata": {},
   "outputs": [],
   "source": []
  },
  {
   "cell_type": "code",
   "execution_count": 193,
   "metadata": {},
   "outputs": [],
   "source": [
    "color2index = {(0, 0, 0): 0,\n",
    " (0, 255, 0): 1,\n",
    " (255, 0, 0): 2}"
   ]
  },
  {
   "cell_type": "code",
   "execution_count": 194,
   "metadata": {},
   "outputs": [],
   "source": [
    "def rgb_to_index(name):\n",
    "    index_data = numpy.zeros((128, 128), dtype=numpy.uint8)\n",
    "    rgb_data = np.array(Image.open('images_fixed/col/'+name))\n",
    "    for i in range(128):\n",
    "        for j in range(128):\n",
    "            index_data[i][j] = color2index[tuple(rgb_data[i][j])]\n",
    "    img = Image.fromarray(index_data)\n",
    "    img.save('images_fixed/index/'+name)"
   ]
  },
  {
   "cell_type": "code",
   "execution_count": 216,
   "metadata": {},
   "outputs": [
    {
     "data": {
      "text/plain": [
       "'decimal226.png'"
      ]
     },
     "execution_count": 216,
     "metadata": {},
     "output_type": "execute_result"
    }
   ],
   "source": []
  },
  {
   "cell_type": "code",
   "execution_count": 195,
   "metadata": {},
   "outputs": [],
   "source": [
    "#generate index images\n",
    "path = '/Users/aizazansari/Desktop/Uni Data/MOMA/images_fixed/col'\n",
    "arr = os.listdir(path)\n",
    "for name in arr:\n",
    "    if name.endswith('.png'):\n",
    "        rgb_to_index(name)"
   ]
  },
  {
   "cell_type": "code",
   "execution_count": null,
   "metadata": {},
   "outputs": [],
   "source": []
  },
  {
   "cell_type": "code",
   "execution_count": null,
   "metadata": {},
   "outputs": [],
   "source": []
  },
  {
   "cell_type": "code",
   "execution_count": null,
   "metadata": {},
   "outputs": [],
   "source": []
  },
  {
   "cell_type": "code",
   "execution_count": null,
   "metadata": {},
   "outputs": [],
   "source": []
  },
  {
   "cell_type": "code",
   "execution_count": null,
   "metadata": {},
   "outputs": [],
   "source": []
  },
  {
   "cell_type": "code",
   "execution_count": null,
   "metadata": {},
   "outputs": [],
   "source": []
  }
 ],
 "metadata": {
  "kernelspec": {
   "display_name": "Python 3",
   "language": "python",
   "name": "python3"
  },
  "language_info": {
   "codemirror_mode": {
    "name": "ipython",
    "version": 3
   },
   "file_extension": ".py",
   "mimetype": "text/x-python",
   "name": "python",
   "nbconvert_exporter": "python",
   "pygments_lexer": "ipython3",
   "version": "3.7.3"
  }
 },
 "nbformat": 4,
 "nbformat_minor": 4
}
