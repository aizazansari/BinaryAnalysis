{
 "cells": [
  {
   "cell_type": "code",
   "execution_count": 14,
   "metadata": {},
   "outputs": [],
   "source": [
    "import numpy\n",
    "import random\n",
    "from PIL import Image\n",
    "import pandas as pd\n",
    "import numpy as np\n",
    "import cv2\n",
    "import math"
   ]
  },
  {
   "cell_type": "code",
   "execution_count": 53,
   "metadata": {},
   "outputs": [],
   "source": [
    "#rgb\n",
    "data = numpy.zeros((1024, 1024, 3), dtype=numpy.uint8)\n",
    "\n",
    "data[512, 511] = [255, 0, 0]\n",
    "data[512, 512] = [0, 255, 0]\n",
    "data[512, 513] = [0, 0, 255]\n",
    "\n",
    "image = Image.fromarray(data)\n",
    "image.save(\"test.jpg\")"
   ]
  },
  {
   "cell_type": "code",
   "execution_count": 52,
   "metadata": {},
   "outputs": [],
   "source": [
    "#grayscale\n",
    "data = numpy.zeros((1024, 1024), dtype=numpy.uint8)\n",
    "\n",
    "for i in range(0,1024):\n",
    "    for j in range(0,1024):\n",
    "        data[i][j] = 0\n",
    "\n",
    "\n",
    "image = Image.fromarray(data)\n",
    "image.save(\"test.jpg\")"
   ]
  },
  {
   "cell_type": "code",
   "execution_count": null,
   "metadata": {},
   "outputs": [],
   "source": [
    "df = pd.read_csv('decimal12.csv',sep='|',error_bad_lines=False)\n"
   ]
  },
  {
   "cell_type": "code",
   "execution_count": null,
   "metadata": {},
   "outputs": [],
   "source": []
  },
  {
   "cell_type": "code",
   "execution_count": null,
   "metadata": {},
   "outputs": [],
   "source": []
  },
  {
   "cell_type": "code",
   "execution_count": 23,
   "metadata": {},
   "outputs": [],
   "source": [
    "decimals = []\n",
    "\n",
    "for index, row in df.iterrows():\n",
    "    values = row['bytes'].split('-')\n",
    "    if row['type']=='data':\n",
    "        values = [value+'d' for value in values]\n",
    "    else:\n",
    "        values = [value+'c' for value in values]\n",
    "    decimals.extend(values)"
   ]
  },
  {
   "cell_type": "code",
   "execution_count": null,
   "metadata": {},
   "outputs": [],
   "source": []
  },
  {
   "cell_type": "code",
   "execution_count": 34,
   "metadata": {},
   "outputs": [],
   "source": [
    "length = len(decimals)\n",
    "dimension = math.ceil(math.sqrt(length))\n",
    "bw_data = numpy.zeros((dimension, dimension), dtype=numpy.uint8)\n",
    "col_data = numpy.zeros((dimension, dimension, 3), dtype=numpy.uint8)\n",
    "for num in range(length):\n",
    "    if decimals[num][-1]=='c':\n",
    "        col = [0,255,0]\n",
    "    else:\n",
    "        col = [255,0,0]\n",
    "        \n",
    "    if (num//dimension%2==0):\n",
    "        \n",
    "        bw_data[num//dimension,num%dimension] = decimals[num][:-1]\n",
    "        col_data[num//dimension,num%dimension] = col\n",
    "    else:\n",
    "        bw_data[num//dimension,dimension - num%dimension - 1]=decimals[num][:-1]\n",
    "        col_data[num//dimension,dimension - num%dimension - 1]=col\n",
    "image = Image.fromarray(bw_data)\n",
    "image.save(\"bw01.png\",quality=100)\n",
    "image = Image.fromarray(col_data)\n",
    "image.save(\"col01.png\",quality=100)\n",
    "\n"
   ]
  },
  {
   "cell_type": "code",
   "execution_count": 20,
   "metadata": {},
   "outputs": [],
   "source": [
    "ret_image = image.resize([604,604], Image.NEAREST)\n",
    "ret_image.save(\"resize_bw.png\",quality=100)"
   ]
  },
  {
   "cell_type": "code",
   "execution_count": null,
   "metadata": {},
   "outputs": [],
   "source": []
  },
  {
   "cell_type": "code",
   "execution_count": null,
   "metadata": {},
   "outputs": [],
   "source": [
    "#bmp image is way bigger in size\n",
    "#thumbnail doesnt increase size\n",
    "#resize makes the quality bad except for nearest.\n",
    "\n",
    "bilinear\n",
    "bicubic\n",
    "antialias\n",
    "nearest - working"
   ]
  },
  {
   "cell_type": "code",
   "execution_count": 2,
   "metadata": {},
   "outputs": [
    {
     "name": "stdout",
     "output_type": "stream",
     "text": [
      "Original Dimensions :  (302, 302, 3)\n",
      "Resized Dimensions :  (604, 604, 3)\n"
     ]
    },
    {
     "data": {
      "text/plain": [
       "True"
      ]
     },
     "execution_count": 2,
     "metadata": {},
     "output_type": "execute_result"
    }
   ],
   "source": [
    "img = cv2.imread('col1.png', cv2.IMREAD_UNCHANGED)\n",
    " \n",
    "print('Original Dimensions : ',img.shape)\n",
    " \n",
    "scale_percent = 200 # percent of original size\n",
    "width = int(img.shape[1] * scale_percent / 100)\n",
    "height = int(img.shape[0] * scale_percent / 100)\n",
    "dim = (width, height)\n",
    "# resize image\n",
    "resized = cv2.resize(img, dim, interpolation = cv2.INTER_AREA)\n",
    " \n",
    "print('Resized Dimensions : ',resized.shape)\n",
    " \n",
    "cv2.imwrite(\"resized_cv.png\", resized)\n"
   ]
  },
  {
   "cell_type": "code",
   "execution_count": null,
   "metadata": {},
   "outputs": [],
   "source": [
    "## cv also does the job but twice the size of resize_col"
   ]
  },
  {
   "cell_type": "code",
   "execution_count": 46,
   "metadata": {},
   "outputs": [],
   "source": [
    "length = len(decimals)\n",
    "dimension = math.ceil(length/4)\n",
    "bw_data = numpy.zeros((dimension, 4), dtype=numpy.uint8)\n",
    "col_data = numpy.zeros((dimension, 4, 3), dtype=numpy.uint8)\n",
    "for num in range(length):\n",
    "    if decimals[num][-1]=='c':\n",
    "        col = [0,255,0]\n",
    "    else:\n",
    "        col = [255,0,0]\n",
    "        \n",
    "    if (num//dimension%2==0):\n",
    "        \n",
    "        bw_data[num//4,num%4] = decimals[num][:-1]\n",
    "        col_data[num//4,num%4] = col\n",
    "    else:\n",
    "       \n",
    "        bw_data[num//4,num%4]=decimals[num][:-1]\n",
    "        col_data[num//4,num%4]=col\n",
    "image = Image.fromarray(bw_data)\n",
    "image.save(\"bw_fixed.png\",quality=100)\n",
    "image = Image.fromarray(col_data)\n",
    "image.save(\"col_fixed.png\",quality=100)\n",
    "\n",
    "ret_image = image.resize([4,dimension], Image.NEAREST)\n",
    "ret_image.save(\"resize_bw_fixed.png\",quality=100)"
   ]
  },
  {
   "cell_type": "code",
   "execution_count": null,
   "metadata": {},
   "outputs": [],
   "source": []
  },
  {
   "cell_type": "code",
   "execution_count": null,
   "metadata": {},
   "outputs": [],
   "source": []
  },
  {
   "cell_type": "code",
   "execution_count": null,
   "metadata": {},
   "outputs": [],
   "source": []
  },
  {
   "cell_type": "code",
   "execution_count": null,
   "metadata": {},
   "outputs": [],
   "source": []
  }
 ],
 "metadata": {
  "kernelspec": {
   "display_name": "Python 3",
   "language": "python",
   "name": "python3"
  },
  "language_info": {
   "codemirror_mode": {
    "name": "ipython",
    "version": 3
   },
   "file_extension": ".py",
   "mimetype": "text/x-python",
   "name": "python",
   "nbconvert_exporter": "python",
   "pygments_lexer": "ipython3",
   "version": "3.7.3"
  }
 },
 "nbformat": 4,
 "nbformat_minor": 4
}
